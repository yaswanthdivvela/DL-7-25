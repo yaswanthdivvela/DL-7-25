{
 "cells": [
  {
   "cell_type": "code",
   "execution_count": null,
   "id": "a508dbf5",
   "metadata": {},
   "outputs": [],
   "source": [
    "!pip install langchain\n",
    "!pip install beautifulsoup4\n",
    "!pip install dotenv\n",
    "!pip install langchain_community"
   ]
  },
  {
   "cell_type": "code",
   "execution_count": null,
   "id": "8f85ee8d",
   "metadata": {},
   "outputs": [],
   "source": [
    "#create webloader to extract data from web pages using langchain\n",
    "from langchain.document_loaders import WebBaseLoader\n",
    "import os\n",
    "from dotenv import load_dotenv\n",
    "from bs4 import BeautifulSoup\n",
    "import requests\n",
    "import bs4\n",
    "import pandas as pd"
   ]
  },
  {
   "cell_type": "code",
   "execution_count": null,
   "id": "990ca6ea",
   "metadata": {},
   "outputs": [
    {
     "ename": "NameError",
     "evalue": "name 'df' is not defined",
     "output_type": "error",
     "traceback": [
      "\u001b[31m---------------------------------------------------------------------------\u001b[39m",
      "\u001b[31mNameError\u001b[39m                                 Traceback (most recent call last)",
      "\u001b[36mCell\u001b[39m\u001b[36m \u001b[39m\u001b[32mIn[69]\u001b[39m\u001b[32m, line 42\u001b[39m\n\u001b[32m     40\u001b[39m URL=\u001b[33m\"\u001b[39m\u001b[33mhttps://www.bullionvault.com/gold-news\u001b[39m\u001b[33m\"\u001b[39m\n\u001b[32m     41\u001b[39m bullion_df=get_bullionvault_articles()\n\u001b[32m---> \u001b[39m\u001b[32m42\u001b[39m bullion_df[\u001b[33m'\u001b[39m\u001b[33mDate\u001b[39m\u001b[33m'\u001b[39m] = pd.to_datetime(\u001b[43mdf\u001b[49m[\u001b[33m'\u001b[39m\u001b[33mDate\u001b[39m\u001b[33m'\u001b[39m], errors=\u001b[33m'\u001b[39m\u001b[33mcoerce\u001b[39m\u001b[33m'\u001b[39m)\n",
      "\u001b[31mNameError\u001b[39m: name 'df' is not defined"
     ]
    }
   ],
   "source": [
    "def extract_info(item):\n",
    "    date=item.find(class_='views-field-created')\n",
    "    link=item.find(class_='views-field-title').find('a')['href']\n",
    "    page_response = requests.get(link)\n",
    "    page_soup = BeautifulSoup(page_response.content, 'html.parser')\n",
    "    content = page_soup.find('div', class_='field field-name-body field-type-text-with-summary field-label-hidden')\n",
    "    title = page_soup.find('h1').text.strip()\n",
    "    content_text = content.text.strip() if content else ''\n",
    "    data_point = {'Date': date.text.strip() if date else 'N/A', 'Content': 'Title:' + title + '\\nArticle:' + content_text}\n",
    "    return data_point\n",
    "\n",
    "def get_articles(URL):\n",
    "    response = requests.get(URL)\n",
    "    soup = BeautifulSoup(response.content, 'html.parser')\n",
    "    table = soup.find('table')\n",
    "    list_data = []\n",
    "    for row in table.find_all('tr'):\n",
    "        list_data.append(extract_info(row))\n",
    "    return pd.DataFrame(list_data)\n",
    "\n",
    "def get_latest_articles(URL):\n",
    "    response = requests.get(URL)\n",
    "    soup = BeautifulSoup(response.content, 'html.parser')\n",
    "    latest=soup.find(id='views-bootstrap-grid-1').find_all(class_='field-content')\n",
    "    list_data = []\n",
    "    for row in latest:\n",
    "        list_data.append(extract_info(row))\n",
    "    return pd.DataFrame(list_data)\n",
    "\n",
    "def get_bullionvault_articles():\n",
    "    df_latest = get_latest_articles(URL)\n",
    "    df=get_articles(URL)\n",
    "    df = pd.concat([df_latest, df], ignore_index=True)\n",
    "    for i in range(1, 11):\n",
    "        next_url = f\"{URL}/latest-articles?page={i}\"\n",
    "        df_next = get_articles(next_url)\n",
    "        df = pd.concat([df, df_next], ignore_index=True)\n",
    "    return df\n",
    "\n",
    "URL=\"https://www.bullionvault.com/gold-news\"\n",
    "bullion_df=get_bullionvault_articles()\n",
    "bullion_df['Date'] = pd.to_datetime(bullion_df['Date'], errors='coerce')"
   ]
  }
 ],
 "metadata": {
  "kernelspec": {
   "display_name": "pytorch_gpu",
   "language": "python",
   "name": "python3"
  },
  "language_info": {
   "codemirror_mode": {
    "name": "ipython",
    "version": 3
   },
   "file_extension": ".py",
   "mimetype": "text/x-python",
   "name": "python",
   "nbconvert_exporter": "python",
   "pygments_lexer": "ipython3",
   "version": "3.13.2"
  }
 },
 "nbformat": 4,
 "nbformat_minor": 5
}
